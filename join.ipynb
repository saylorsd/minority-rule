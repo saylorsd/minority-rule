{
 "cells": [
  {
   "cell_type": "markdown",
   "metadata": {
    "pycharm": {
     "name": "#%% md\n"
    }
   },
   "source": [
    "# Minority Rule data preparation\n",
    "Joining Census Bureau demographic data with election data for future mapping.\n",
    "\n",
    "TODO:\n",
    " - handle territories\n",
    " - clean up race category headers and include them"
   ]
  },
  {
   "cell_type": "code",
   "execution_count": null,
   "metadata": {
    "pycharm": {
     "name": "#%%\n"
    }
   },
   "outputs": [],
   "source": [
    "import pandas as pd\n",
    "import geopandas as gpd"
   ]
  },
  {
   "cell_type": "markdown",
   "metadata": {
    "pycharm": {
     "name": "#%% md\n"
    }
   },
   "source": [
    "## Counties\n",
    "### County Demographics\n",
    "Source: [2020 Census redistricting data](https://www.census.gov/programs-surveys/decennial-census/about/rdo/summary-files.html)\n"
   ]
  },
  {
   "cell_type": "code",
   "execution_count": null,
   "metadata": {
    "pycharm": {
     "name": "#%%\n"
    }
   },
   "outputs": [],
   "source": [
    "abbr_df = pd.read_csv('abbr.tsv', delimiter='\\t', usecols=['State', 'Code'], index_col='Code')\n",
    "abbr_lookup = abbr_df.to_dict()['State']\n",
    "abbr_lookup"
   ]
  },
  {
   "cell_type": "code",
   "execution_count": null,
   "metadata": {
    "pycharm": {
     "name": "#%%\n"
    }
   },
   "outputs": [],
   "source": [
    "# FIPS codes and county names to add FIPS code to demog data later on\n",
    "# https://www.nrcs.usda.gov/wps/portal/nrcs/detail/national/home/?cid=nrcs143_013697\n",
    "\n",
    "fips_df = pd.read_csv('county_fips.csv', dtype={'FIPS': str})\n",
    "# todo: have the lookup handle territories - currently they'll have NaNs\n",
    "fips_df['state_name'] = fips_df['State'].map(abbr_lookup)\n",
    "fips_df['full_name'] = fips_df['Name'] + ', ' + fips_df['state_name']\n",
    "fips_df = fips_df.set_index('full_name')\n",
    "# fips_df.to_csv('county_fips.csv')\n",
    "fips_df"
   ]
  },
  {
   "cell_type": "code",
   "execution_count": null,
   "metadata": {
    "pycharm": {
     "name": "#%%\n"
    }
   },
   "outputs": [],
   "source": [
    "# census 2020 redistricting data\n",
    "county_demog_df = pd.read_csv(\n",
    "    'county-demog.csv',\n",
    "    index_col='Label (Grouping)',\n",
    "    skip_blank_lines=True,\n",
    "    thousands=','\n",
    ").transpose()\n",
    "county_demog_df.index.name = 'county'\n",
    "# remove county and parish to standardize across states\n",
    "county_demog_df.index = county_demog_df.index.map(lambda x: x.replace(' County,', ',').replace(' Parish,', ','))\n",
    "# combine demographic data with FIPS codes\n",
    "county_demog_df = county_demog_df.join(fips_df).set_index('FIPS')\n",
    "# limit demographics to only total pop for now\n",
    "county_demog_df = county_demog_df[['Total:', 'Name', 'State', 'state_name']]\n",
    "county_demog_df = county_demog_df.rename(\n",
    "    {'Total:': 'total_pop', 'Name': 'name', 'State': 'state'}\n",
    ")\n",
    "county_demog_df"
   ]
  },
  {
   "cell_type": "markdown",
   "metadata": {
    "pycharm": {
     "name": "#%% md\n"
    }
   },
   "source": [
    "### County 2020 Presidential Election Results\n",
    "Source: [County Presidential Election Returns 2000-2020](https://dataverse.harvard.edu/dataset.xhtml?persistentId=doi:10.7910/DVN/VOQCHQ)\n",
    "\n",
    "Dataset:\n",
    "```\n",
    "MIT Election Data and Science Lab, 2018, \"County Presidential Election Returns 2000-2020\",\n",
    " https://doi.org/10.7910/DVN/VOQCHQ, Harvard Dataverse, V10,\n",
    " UNF:6:pVAMya52q7VM1Pl7EZMW0Q== [fileUNF]\n",
    "```\n",
    "\n",
    "File:\n",
    "```\n",
    "MIT Election Data and Science Lab, 2018, \"County Presidential Election Returns 2000-2020\",\n",
    " https://doi.org/10.7910/DVN/VOQCHQ, Harvard Dataverse, V10;\n",
    " countypres_2000-2020.tab [fileName], UNF:6:pVAMya52q7VM1Pl7EZMW0Q== [fileUNF]\n",
    "```"
   ]
  },
  {
   "cell_type": "code",
   "execution_count": null,
   "metadata": {
    "pycharm": {
     "name": "#%%\n"
    }
   },
   "outputs": [],
   "source": [
    "county_pres_df = pd.read_csv(\n",
    "    'countypres_2000-2020.tab',\n",
    "    index_col=['county_fips'],\n",
    "    delimiter='\\t',\n",
    "    dtype={'county_fips': str, 'version': str}\n",
    ")\n",
    "\n",
    "# limit to major parties for now\n",
    "county_pres_df = county_pres_df[\n",
    "    (county_pres_df['year'] == 2020) &\n",
    "    (county_pres_df['party'].isin(('DEMOCRAT', 'REPUBLICAN')))\n",
    "    ]\n",
    "\n",
    "total_series = county_pres_df['totalvotes'].groupby(county_pres_df.index).max()\n",
    "\n",
    "county_pres_df = county_pres_df.pivot_table(\n",
    "    index=county_pres_df.index,\n",
    "    columns='party',\n",
    "    values='candidatevotes'\n",
    ")\n",
    "county_pres_df['TOTAL'] = total_series\n",
    "\n",
    "county_pres_df['dem_percent'] = 100 * county_pres_df['DEMOCRAT'] / county_pres_df['TOTAL']\n",
    "county_pres_df['rep_percent'] = 100 * county_pres_df['REPUBLICAN'] / county_pres_df['TOTAL']\n",
    "county_pres_df['dem_lead'] = county_pres_df['DEMOCRAT'] - county_pres_df['REPUBLICAN']\n",
    "county_pres_df['dem_percentage_pts_lead'] = county_pres_df['dem_percent'] - county_pres_df['rep_percent']\n",
    "\n",
    "county_pres_df.to_csv('county_results.csv')\n",
    "county_pres_df"
   ]
  },
  {
   "cell_type": "markdown",
   "metadata": {
    "pycharm": {
     "name": "#%% md\n"
    }
   },
   "source": [
    "### Combine to one table"
   ]
  },
  {
   "cell_type": "code",
   "execution_count": null,
   "metadata": {
    "pycharm": {
     "name": "#%%\n"
    }
   },
   "outputs": [],
   "source": [
    "county_full_df = county_pres_df.join(county_demog_df)\n",
    "county_full_df.index.name = 'fips'\n",
    "county_full_df = county_full_df.rename(columns=str.lower)\n",
    "county_full_df.to_csv('county-combined.csv')\n",
    "county_full_df"
   ]
  },
  {
   "cell_type": "markdown",
   "metadata": {
    "pycharm": {
     "name": "#%% md\n"
    }
   },
   "source": [
    "## States\n",
    "### State Demographics\n",
    "Source: [2020 Census redistricting data](https://www.census.gov/programs-surveys/decennial-census/about/rdo/summary-files.html)\n",
    "\n"
   ]
  },
  {
   "cell_type": "code",
   "execution_count": null,
   "metadata": {
    "pycharm": {
     "name": "#%%\n"
    }
   },
   "outputs": [],
   "source": [
    "state_demog_df = pd.read_csv(\n",
    "    'state-demog.csv',\n",
    "    index_col='Label (Grouping)',\n",
    "    skip_blank_lines=True,\n",
    "    thousands=','\n",
    ").transpose()\n",
    "\n",
    "state_demog_df.index.name = 'state'\n",
    "state_demog_df.index = state_demog_df.index.str.upper()\n",
    "\n",
    "# limit demographics to only total pop for now\n",
    "state_demog_df = state_demog_df[['Total:']]\n",
    "state_demog_df = state_demog_df.rename(columns={'Total:': 'total_pop'})\n",
    "\n",
    "state_demog_df"
   ]
  },
  {
   "cell_type": "markdown",
   "metadata": {
    "pycharm": {
     "name": "#%% md\n"
    }
   },
   "source": [
    "## State 2020 Presidential Election Results\n",
    "Source: [U.S. President 1976–2020](https://dataverse.harvard.edu/file.xhtml?fileId=4299753&version=6.0)\n",
    "\n",
    "Dataset\n",
    "```\n",
    " MIT Election Data and Science Lab, 2017, \"U.S. President 1976–2020\",\n",
    "  https://doi.org/10.7910/DVN/42MVDX, Harvard Dataverse, V6,\n",
    "  UNF:6:4KoNz9KgTkXy0ZBxJ9ZkOw== [fileUNF]\n",
    "```\n",
    "\n",
    "File\n",
    "```\n",
    " MIT Election Data and Science Lab, 2017, \"U.S. President 1976–2020\",\n",
    "  https://doi.org/10.7910/DVN/42MVDX, Harvard Dataverse, V6;\n",
    "  1976-2020-president.tab [fileName], UNF:6:4KoNz9KgTkXy0ZBxJ9ZkOw== [fileUNF]\n",
    "```\n"
   ]
  },
  {
   "cell_type": "code",
   "execution_count": null,
   "metadata": {
    "pycharm": {
     "name": "#%%\n"
    }
   },
   "outputs": [],
   "source": [
    "state_elect_df = pd.read_csv('1976-2020-president.tab', delimiter='\\t', index_col='state')\n",
    "state_elect_df = state_elect_df[\n",
    "    (state_elect_df['year'] == 2020) & (state_elect_df['party_simplified'].isin(['DEMOCRAT', 'REPUBLICAN']))]\n",
    "\n",
    "total_series = state_elect_df['totalvotes'].groupby(state_elect_df.index).max()\n",
    "\n",
    "state_elect_df = state_elect_df.pivot_table(index=state_elect_df.index, columns='party_simplified',\n",
    "                                            values='candidatevotes')\n",
    "state_elect_df['TOTAL'] = total_series\n",
    "state_elect_df['dem_percent'] = 100 * state_elect_df['DEMOCRAT'] / state_elect_df['TOTAL']\n",
    "state_elect_df['rep_percent'] = 100 * state_elect_df['REPUBLICAN'] / state_elect_df['TOTAL']\n",
    "state_elect_df['dem_lead'] = state_elect_df['DEMOCRAT'] - state_elect_df['REPUBLICAN']\n",
    "state_elect_df['dem_percentage_pts_lead'] = state_elect_df['dem_percent'] - state_elect_df['rep_percent']\n",
    "state_elect_df.to_csv('state_results.csv')\n",
    "state_elect_df"
   ]
  },
  {
   "cell_type": "markdown",
   "metadata": {
    "pycharm": {
     "name": "#%% md\n"
    }
   },
   "source": [
    "### Combine to one table"
   ]
  },
  {
   "cell_type": "code",
   "execution_count": null,
   "metadata": {
    "pycharm": {
     "name": "#%%\n"
    }
   },
   "outputs": [],
   "source": [
    "state_full_df = state_elect_df.join(state_demog_df)\n",
    "state_full_df.index.name = 'state'\n",
    "state_full_df = state_full_df.rename(columns=str.lower)\n",
    "state_full_df.to_csv('state-combined.csv')\n",
    "state_full_df"
   ]
  },
  {
   "cell_type": "markdown",
   "source": [
    "## Create GeoJSONs\n",
    "Source: [US Census Bureau Cartographic Boundary Files](https://www.census.gov/geographies/mapping-files/time-series/geo/carto-boundary-file.html)"
   ],
   "metadata": {
    "collapsed": false,
    "pycharm": {
     "name": "#%% md\n"
    }
   }
  },
  {
   "cell_type": "code",
   "execution_count": null,
   "outputs": [],
   "source": [
    "county_geo_df = gpd.read_file('cb_2018_us_county_20m/cb_2018_us_county_20m.shp')\n",
    "county_geo_df['NAME'] = county_geo_df['NAME'].str.upper()\n",
    "county_geo_df = county_geo_df.join(county_full_df, on='GEOID')\n",
    "county_geo_df = county_geo_df.set_index('GEOID')\n",
    "county_geo_df.to_file('counties.geojson', driver='GeoJSON')\n",
    "county_geo_df"
   ],
   "metadata": {
    "collapsed": false,
    "pycharm": {
     "name": "#%%\n"
    }
   }
  },
  {
   "cell_type": "code",
   "execution_count": null,
   "outputs": [],
   "source": [
    "state_geo_df = gpd.read_file('cb_2018_us_state_20m/cb_2018_us_state_20m.shp')\n",
    "state_geo_df['NAME'] = state_geo_df['NAME'].str.upper()\n",
    "state_geo_df = state_geo_df.join(state_full_df, on='NAME')\n",
    "state_geo_df = state_geo_df.set_index('STATEFP')\n",
    "state_geo_df.to_file('states.geojson', driver='GeoJSON')\n",
    "state_geo_df"
   ],
   "metadata": {
    "collapsed": false,
    "pycharm": {
     "name": "#%%\n"
    }
   }
  },
  {
   "cell_type": "code",
   "execution_count": null,
   "outputs": [],
   "source": [],
   "metadata": {
    "collapsed": false,
    "pycharm": {
     "name": "#%%\n"
    }
   }
  }
 ],
 "metadata": {
  "kernelspec": {
   "display_name": "Python 3 (ipykernel)",
   "language": "python",
   "name": "python3"
  },
  "language_info": {
   "codemirror_mode": {
    "name": "ipython",
    "version": 3
   },
   "file_extension": ".py",
   "mimetype": "text/x-python",
   "name": "python",
   "nbconvert_exporter": "python",
   "pygments_lexer": "ipython3",
   "version": "3.9.12"
  }
 },
 "nbformat": 4,
 "nbformat_minor": 1
}